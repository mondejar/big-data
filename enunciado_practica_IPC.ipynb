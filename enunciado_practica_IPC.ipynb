{
 "cells": [
  {
   "cell_type": "markdown",
   "metadata": {
    "vscode": {
     "languageId": "plaintext"
    }
   },
   "source": [
    "# Práctica: Análise de Datos Temporais con Pandas\n",
    "\n",
    "\n",
    "Nesta práctica, traballaredes con datos do Instituto Nacional de Estatística (INE) sobre a evolución dos prezos do IPC de diferentes produtos. \n",
    "\n",
    "Sobre o dataset:\n",
    "\n",
    "- Índice: expresa un valor en base 100 (sobre un ano de referencia).\n",
    "- Variación anual: compara o mes actual co o mesmo mes do ano anterior.\n",
    "- Variación en lo que va de año: compara o mes actual co mes de xaneiro do mesmo ano.\n",
    "- Vairación mensual: compara o valor co mes anterior.\n",
    "\n",
    "## Preparación\n",
    "\n",
    "- Descarga dos datos: Accede á ligazón proporcionada e descarga os datos en calquer formato compatible con Pandas (XML, CSV, JSON) [https://datos.gob.es/es/catalogo/ea0010587-indices-nacionales-de-clases-ipc-identificador-api-509041](https://datos.gob.es/es/catalogo/ea0010587-indices-nacionales-de-clases-ipc-identificador-api-509041)\n",
    "\n",
    "- Utiliza un entorno conda que teña instalado ``pandas`` e ``matplotlib``.\n",
    "\n",
    "## Descrición\n",
    "\n",
    "1. Utiliza ``pandas`` para cargar os datos nun DataFrame e preparalos para a análise.\n",
    "    Ten en conta que será necesario preprocesar o dataset para o correcto funcionamiento do DataFrame. Douche unhas pistas: \n",
    "    - As datas están organizadas en sentido inverso, é decir aparecen primeiro as datas mais recentes. \n",
    "    - Por defecto o valor das datas é un string, deberás formatearlo correctamente para que o DataFrame o identifique en formato ``datetime``.\n",
    "    - Os valores no campo \"Total\" separan os valores decimais por \",\", para poder facer o casting a float debedes camialos por \".\".\n",
    "\n",
    "2. Determina os 5 produtos que máis incrementaron de prezo no ano 2024. (Usa o tipo de dato \"Variación anual\")\n",
    "\n",
    "3. Representa a evolución do valor do tipo de dato \"Índice\" dos 5 produtos anteriores nunha gráfica. \n",
    "\n",
    "4. Determina o ano co máximo valor de incremento medio considerando todos os produtos. (Usa o tipo de dato \"Variación anual\")\n",
    "\n",
    "\n",
    "## Entrega\n",
    "\n",
    "Debedes entregar un script en Python onde se realicen todos os pasos descritos e engadir a gráfica obtenida en formato .png.\n",
    "\n"
   ]
  }
 ],
 "metadata": {
  "kernelspec": {
   "display_name": "base",
   "language": "python",
   "name": "python3"
  },
  "language_info": {
   "codemirror_mode": {
    "name": "ipython",
    "version": 3
   },
   "file_extension": ".py",
   "mimetype": "text/x-python",
   "name": "python",
   "nbconvert_exporter": "python",
   "pygments_lexer": "ipython3",
   "version": "3.12.7"
  }
 },
 "nbformat": 4,
 "nbformat_minor": 2
}
