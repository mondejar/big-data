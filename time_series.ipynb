{
 "cells": [
  {
   "cell_type": "markdown",
   "metadata": {},
   "source": [
    "# TUTORIAL: TIME SERIES WITH PANDAS\n",
    "\n",
    "Tutorial baseado no libro [Python for Data Analysis: 11 Time Series](https://wesmckinney.com/book/time-series)\n",
    "\n",
    "As series temporais compoñense dun conxunto de medicións dunha variable de xeito regular ao largo dun período de tempo.  Ex: financias, economía, ecoloxía, saúde...\n",
    "\n",
    "A maioría de series temporais ten unha frecuencia fixa, é dicir, hai unha medida de dato en intervalos regular de tempo seguindo algunha regra, como cada 15 segundos, 5 minutos, unha vez ao mes.\n",
    "\n",
    "A forma de anotar as series temporais dependerá da aplicación, algunhas das mais comunes empregan:\n",
    "\n",
    "- ***Timestamps*** (marca de tempo): instantes de tempo específicos\n",
    "- **Períodos fixos**: por exemplo o mes enteiro de xaneiro de 2017, o ano entero de 2020.\n",
    "- **Intervalos de tempo**: indicando un *timestamp* inicial e final. Períodos poden ser pensados coma un caso especial de intervalos. \n",
    "- **Experimento o tempo transcorrido**: cada *timestamp* é unha medida de tempo relativo a un inicio particular comezando desde 0."
   ]
  },
  {
   "cell_type": "code",
   "execution_count": 1,
   "metadata": {},
   "outputs": [],
   "source": [
    "import numpy as np\n",
    "import pandas as pd\n",
    "from datetime import datetime"
   ]
  },
  {
   "cell_type": "markdown",
   "metadata": {},
   "source": [
    "A librería estándar de Python inclúe tipos de datos para *data* y *time data*, así como para a funcionalidade de calendario: ``datetime``, ``time``, ``calendar``."
   ]
  },
  {
   "cell_type": "code",
   "execution_count": 2,
   "metadata": {},
   "outputs": [
    {
     "name": "stdout",
     "output_type": "stream",
     "text": [
      "Exemplo de datetime: 2025-02-24 16:17:00.508167\n",
      "Exemplo de ano e mes datetime : 2025 2\n",
      "Exemplo de calendario (dia): 24\n",
      "Exemplo de h/m/s: 20:15:10\n"
     ]
    }
   ],
   "source": [
    "from datetime import datetime, date, time\n",
    "\n",
    "# datetime\n",
    "\n",
    "now = datetime.now()\n",
    "print(\"Exemplo de datetime: \" + str(now))\n",
    "print(\"Exemplo de ano e mes datetime : \" + str(now.year) + \" \" + str(now.month))\n",
    "\n",
    "# calendar\n",
    "print(\"Exemplo de calendario (dia): \" + str(date.today().day))\n",
    "\n",
    "# time\n",
    "hour = time(20, 15, 10)\n",
    "print(\"Exemplo de h/m/s: \" + str(hour))\n"
   ]
  },
  {
   "cell_type": "markdown",
   "metadata": {},
   "source": [
    "- ``datetime.timedelta``, o simplemente ``timedelta``, representa a diferenza temporal entre dous obxectos ``datetime``.\n",
    "- ``datetime`` garda tanto as datas coma os tempos co precisión de microsegundos. "
   ]
  },
  {
   "cell_type": "code",
   "execution_count": 3,
   "metadata": {},
   "outputs": [
    {
     "name": "stdout",
     "output_type": "stream",
     "text": [
      "Dias de diferenza 365\n",
      "Segundos de diferenza 1800\n"
     ]
    }
   ],
   "source": [
    "delta = datetime(2012, 1, 7, 1) - datetime(2011, 1, 7, 0, 30)\n",
    "\n",
    "print(\"Dias de diferenza \" + str(delta.days))\n",
    "print(\"Segundos de diferenza \" + str(delta.seconds))"
   ]
  },
  {
   "cell_type": "markdown",
   "metadata": {},
   "source": [
    "- Podedes sumar (restar) un ``timedelta`` a un obxecto ``datetime`` para producir un novo obxecto desprazado:"
   ]
  },
  {
   "cell_type": "code",
   "execution_count": 18,
   "metadata": {},
   "outputs": [
    {
     "name": "stdout",
     "output_type": "stream",
     "text": [
      "2011-01-07 00:00:00\n",
      "2011-01-19 00:00:00\n"
     ]
    }
   ],
   "source": [
    "from datetime import timedelta\n",
    "\n",
    "start = datetime(2011, 1, 7)\n",
    "print(start)\n",
    "\n",
    "new_time = start + timedelta(12)\n",
    "\n",
    "print(new_time)\n"
   ]
  },
  {
   "cell_type": "markdown",
   "metadata": {},
   "source": [
    "Tipos no módulo ``datetime``\n",
    "\n",
    "| Type | Description|\n",
    "|------|------------|\n",
    "|``date`` |\tGarda datas de calendario  (ano, mes, día) usando o calendario Gregoriano|\n",
    "|``time`` |\tGarda o tempo dun día como horas, minutos, segundos e microsegundos|\n",
    "|``datetime`` |\tGarda tanto datas como tempo|\n",
    "|``timedelta`` | A diferenza entre dous valores ``datetime`` (como días, secundos e microsegundos)|\n",
    "|``tzinfo`` | Tipo base para gardar información de fuso horario|\n"
   ]
  },
  {
   "cell_type": "markdown",
   "metadata": {},
   "source": [
    "## Conversión entre *String* e *Datetime*\n",
    "\n",
    "Podedes usar a función ``strftime`` para especificar o formato dunha data e convertila a ``str``.\n",
    "\n",
    "Para realizar o caso oposto podedes usar a función ``datetime.strptime``\n",
    "\n",
    "A seguente Tabla amosa o formato de ``datetime``:\n",
    " |Type | \tDescription |\n",
    "|------|------------|\n",
    "|%Y |\tFour-digit year|\n",
    "|%y |\tTwo-digit year|\n",
    "|%m |\tTwo-digit month [01, 12]|\n",
    "|%d |\tTwo-digit day [01, 31]|\n",
    "|%H |\tHour (24-hour clock) [00, 23]|\n",
    "|%I |\tHour (12-hour clock) [01, 12]|\n",
    "|%M |\tTwo-digit minute [00, 59]|\n",
    "|%S |\tSecond [00, 61] (seconds 60, 61 account for leap seconds)|\n",
    "|%f |\tMicrosecond as an integer, zero-padded (from 000000 to 999999)|\n",
    "|%j |\tDay of the year as a zero-padded integer (from 001 to 336)|\n",
    "|%w |\tWeekday as an integer [0 (Sunday), 6]|\n",
    "|%u |\tWeekday as an integer starting from 1, where 1 is Monday.|\n",
    "|%U |\tWeek number of the year [00, 53]; Sunday is considered the first day of the week, and days before the first Sunday of the year are “week 0”|\n",
    "|%W |\tWeek number of the year [00, 53]; Monday is considered the first day of the week, and days before the first Monday of the year are “week 0”|\n",
    "|%z |\tUTC time zone offset as +HHMM or -HHMM; empty if time zone naive|\n",
    "|%Z |\tTime zone name as a string, or empty string if no time zone|\n",
    "|%F |\tShortcut for %Y-%m-%d (e.g., 2012-4-18)|\n",
    "|%D | \tShortcut for %m/%d/%y (e.g., 04/18/12)|"
   ]
  },
  {
   "cell_type": "code",
   "execution_count": 31,
   "metadata": {},
   "outputs": [
    {
     "name": "stdout",
     "output_type": "stream",
     "text": [
      "2011-01-03 00:00:00\n",
      "Date: 2011-01 Hora 00\n",
      "2011-01-03 13:30:13\n",
      "2011-01-03 13:30:13\n"
     ]
    }
   ],
   "source": [
    "# Datetime to string\n",
    "stamp = datetime(2011, 1, 3)\n",
    "print(stamp)\n",
    "print(stamp.strftime(\"Date: %Y-%m Hora %H\"))\n",
    "\n",
    "# String to Datetime\n",
    "\n",
    "value = \"2011-01-03 13-30-13\"\n",
    "print(datetime.strptime(value, \"%Y-%m-%d %H-%M-%S\"))\n",
    "\n",
    "value = \"DATA 2011-01-03 HORA 13-30-13\"\n",
    "print(datetime.strptime(value, \"DATA %Y-%m-%d HORA %H-%M-%S\"))\n"
   ]
  },
  {
   "cell_type": "markdown",
   "metadata": {},
   "source": [
    " Con ``pandas`` podedes usar a función ``pd.to_datetime`` co mesmo formato."
   ]
  },
  {
   "cell_type": "code",
   "execution_count": 111,
   "metadata": {},
   "outputs": [
    {
     "data": {
      "text/plain": [
       "DatetimeIndex(['2011-07-06'], dtype='datetime64[ns]', freq=None)"
      ]
     },
     "execution_count": 111,
     "metadata": {},
     "output_type": "execute_result"
    }
   ],
   "source": [
    "\n",
    "# pandas.to_datetime\n",
    "datestrs = [\"2011_07_06\"]\n",
    "d = pd.to_datetime(datestrs, format=\"%Y_%m_%d\") #pd.DatetimeIndex\n",
    "d"
   ]
  },
  {
   "cell_type": "markdown",
   "metadata": {},
   "source": [
    "## Xerando rangos de data\n",
    "\n",
    "Con ``pandas.date_range`` podemos crear un obxecto ``pd.DatetimeIndex`` especificando unha lonxitude e unha frecuencia o simplemente unha data de inicio e de fin. \n"
   ]
  },
  {
   "cell_type": "code",
   "execution_count": null,
   "metadata": {},
   "outputs": [
    {
     "name": "stdout",
     "output_type": "stream",
     "text": [
      "DatetimeIndex(['2012-04-01', '2012-04-02', '2012-04-03', '2012-04-04',\n",
      "               '2012-04-05', '2012-04-06', '2012-04-07', '2012-04-08',\n",
      "               '2012-04-09', '2012-04-10', '2012-04-11', '2012-04-12',\n",
      "               '2012-04-13', '2012-04-14', '2012-04-15', '2012-04-16',\n",
      "               '2012-04-17', '2012-04-18', '2012-04-19', '2012-04-20',\n",
      "               '2012-04-21', '2012-04-22', '2012-04-23', '2012-04-24',\n",
      "               '2012-04-25', '2012-04-26', '2012-04-27', '2012-04-28',\n",
      "               '2012-04-29', '2012-04-30', '2012-05-01', '2012-05-02',\n",
      "               '2012-05-03', '2012-05-04', '2012-05-05', '2012-05-06',\n",
      "               '2012-05-07', '2012-05-08', '2012-05-09', '2012-05-10',\n",
      "               '2012-05-11', '2012-05-12', '2012-05-13', '2012-05-14',\n",
      "               '2012-05-15', '2012-05-16', '2012-05-17', '2012-05-18',\n",
      "               '2012-05-19', '2012-05-20', '2012-05-21', '2012-05-22',\n",
      "               '2012-05-23', '2012-05-24', '2012-05-25', '2012-05-26',\n",
      "               '2012-05-27', '2012-05-28', '2012-05-29', '2012-05-30',\n",
      "               '2012-05-31', '2012-06-01'],\n",
      "              dtype='datetime64[ns]', freq='D')\n",
      "DatetimeIndex(['2012-04-30', '2012-05-31', '2012-06-30', '2012-07-31',\n",
      "               '2012-08-31', '2012-09-30', '2012-10-31', '2012-11-30',\n",
      "               '2012-12-31', '2013-01-31', '2013-02-28', '2013-03-31',\n",
      "               '2013-04-30', '2013-05-31', '2013-06-30', '2013-07-31',\n",
      "               '2013-08-31', '2013-09-30', '2013-10-31', '2013-11-30'],\n",
      "              dtype='datetime64[ns]', freq='ME')\n",
      "Index([2012, 2012, 2012, 2012, 2012, 2012, 2012, 2012, 2012, 2013, 2013, 2013,\n",
      "       2013, 2013, 2013, 2013, 2013, 2013, 2013, 2013],\n",
      "      dtype='int32')\n"
     ]
    }
   ],
   "source": [
    "range_a = pd.date_range(\"2012-04-01\", \"2012-06-01\", freq=\"D\")\n",
    "print(range_a)\n",
    "\n",
    "range_b = pd.date_range(start=\"2012-04-01\", periods=20, freq=\"ME\")\n",
    "print(range_b)\n",
    "\n",
    "print(range_b.year)"
   ]
  },
  {
   "cell_type": "markdown",
   "metadata": {},
   "source": [
    "## Time Series Basics\n",
    "\n",
    "Un tipo básico de obxecto de Serie Temporal en Pandas é unha [``pd.Series``](https://pandas.pydata.org/docs/reference/api/pandas.Series.html) indexado por *timestamps*.\n",
    "\n",
    "``pd.Series``: é similar a un ``numpy.array`` pero co etiquetas de índice."
   ]
  },
  {
   "cell_type": "code",
   "execution_count": 61,
   "metadata": {},
   "outputs": [
    {
     "name": "stdout",
     "output_type": "stream",
     "text": [
      "2011-01-02   -0.252926\n",
      "2011-01-05   -0.432823\n",
      "2011-01-07   -1.079353\n",
      "2011-01-08   -0.127091\n",
      "2011-01-10    0.520076\n",
      "2011-01-12    1.007882\n",
      "dtype: float64\n",
      "DatetimeIndex(['2011-01-02', '2011-01-05', '2011-01-07', '2011-01-08',\n",
      "               '2011-01-10', '2011-01-12'],\n",
      "              dtype='datetime64[ns]', freq=None)\n",
      "[-0.25292589 -0.43282255 -1.07935286 -0.12709073  0.52007636  1.00788236]\n"
     ]
    }
   ],
   "source": [
    "dates = [datetime(2011, 1, 2), datetime(2011, 1, 5),\n",
    "         datetime(2011, 1, 7), datetime(2011, 1, 8),\n",
    "         datetime(2011, 1, 10), datetime(2011, 1, 12)]\n",
    "\n",
    "ts = pd.Series(np.random.standard_normal(6), index=dates)\n",
    " \n",
    "print(ts) # pd.Series\n",
    "print(ts.index) # pd.DatetimeIndex \n",
    "print(ts.values) # np.ndarray\n"
   ]
  },
  {
   "cell_type": "markdown",
   "metadata": {},
   "source": [
    "### Indexing\n",
    "\n",
    "Podedes acceder ao valor dunha posicion concreta da serie temporal indexando polo seu *timestamp*:"
   ]
  },
  {
   "cell_type": "code",
   "execution_count": 65,
   "metadata": {},
   "outputs": [
    {
     "name": "stdout",
     "output_type": "stream",
     "text": [
      "2011-01-02 00:00:00\n",
      "-0.2529258925483762\n",
      "-0.2529258925483762\n",
      "-0.2529258925483762\n"
     ]
    }
   ],
   "source": [
    "stamp = ts.index[0]\n",
    "print(stamp)\n",
    "print(ts[stamp])\n",
    "print(ts[datetime(2011, 1, 2)])\n",
    "print(ts[\"2011-01-02\"])\n"
   ]
  },
  {
   "cell_type": "markdown",
   "metadata": {},
   "source": [
    "### Selection, Subsetting "
   ]
  },
  {
   "cell_type": "code",
   "execution_count": 5,
   "metadata": {},
   "outputs": [
    {
     "data": {
      "text/plain": [
       "2000-01-01   -1.123477\n",
       "2000-01-02    0.169634\n",
       "2000-01-03   -0.717209\n",
       "2000-01-04    1.085334\n",
       "2000-01-05   -0.210338\n",
       "                ...   \n",
       "2002-09-22    0.552758\n",
       "2002-09-23   -0.121697\n",
       "2002-09-24   -2.715405\n",
       "2002-09-25   -0.973076\n",
       "2002-09-26    0.091774\n",
       "Freq: D, Length: 1000, dtype: float64"
      ]
     },
     "execution_count": 5,
     "metadata": {},
     "output_type": "execute_result"
    }
   ],
   "source": [
    "longer_ts = pd.Series(np.random.standard_normal(1000), index=pd.date_range(\"2000-01-01\", periods=1000, freq='D')) # 1000 days\n",
    "longer_ts"
   ]
  },
  {
   "cell_type": "code",
   "execution_count": 71,
   "metadata": {},
   "outputs": [
    {
     "data": {
      "text/plain": [
       "2000-10-01   -0.372598\n",
       "2000-10-02   -0.610303\n",
       "2000-10-03   -0.750448\n",
       "2000-10-04    0.029771\n",
       "2000-10-05   -2.504550\n",
       "                ...   \n",
       "2001-01-06   -0.879589\n",
       "2001-01-07   -0.583611\n",
       "2001-01-08    1.010065\n",
       "2001-01-09   -0.287605\n",
       "2001-01-10    1.146034\n",
       "Freq: D, Length: 102, dtype: float64"
      ]
     },
     "execution_count": 71,
     "metadata": {},
     "output_type": "execute_result"
    }
   ],
   "source": [
    "longer_ts[\"2001\"] # specify year\n",
    "longer_ts[\"2001-05\"] # specify year and month\n",
    "longer_ts[datetime(2000, 10, 1):datetime(2001, 1, 10)] # range datetime"
   ]
  },
  {
   "cell_type": "markdown",
   "metadata": {},
   "source": [
    "## Group By\n",
    "\n",
    "Coa funcion [``groupby``](https://pandas.pydata.org/docs/reference/api/pandas.DataFrame.groupby.html) de pandas pódese agroupar datos e realizar operaciones en esos grupos. Ex: (media, sumatorio, máximo, mínimo...)"
   ]
  },
  {
   "cell_type": "code",
   "execution_count": 7,
   "metadata": {},
   "outputs": [
    {
     "name": "stdout",
     "output_type": "stream",
     "text": [
      "0.025471517751642997\n",
      "2000   -0.005073\n",
      "2001    0.029607\n",
      "2002    0.061419\n",
      "dtype: float64\n"
     ]
    }
   ],
   "source": [
    "total_mean = longer_ts.mean()\n",
    "print(total_mean)\n",
    "year_mean = longer_ts.groupby([longer_ts.index.year]).mean()\n",
    "print(year_mean)\n",
    "\n",
    "# Tamén podedes agrupar varios campos á vez:\n",
    "month_max = longer_ts.groupby([longer_ts.index.year, longer_ts.index.month]).max()\n",
    "#print(month_max)\n"
   ]
  },
  {
   "cell_type": "code",
   "execution_count": 10,
   "metadata": {},
   "outputs": [
    {
     "name": "stdout",
     "output_type": "stream",
     "text": [
      "2010    1998399\n",
      "2011    1996995\n",
      "2012    1999972\n",
      "2013    1999292\n",
      "2014    1993097\n",
      "2015    1992967\n",
      "Name: Prezo Venta, dtype: int32\n"
     ]
    }
   ],
   "source": [
    "# Exemplo de uso de groupby cun DataFrame\n",
    "cidades = [\"coruna\", \"ferrorl\", \"lugo\", \"ourense\", \"pontevedra\", \"santiago\", \"vigo\"]\n",
    "\n",
    "df = pd.DataFrame({\n",
    "    \"Cidade\": np.random.choice(cidades, 2000),\n",
    "    \"Prezo Venta\": np.random.randint(50000, 2000000, 2000)},\n",
    "    #\"Fecha\": pd.date_range(\"2010-01-01\", periods=2000)},\n",
    "    index = pd.date_range(\"2010-01-01\", periods=2000)\n",
    ")# Neste caso estamos establecendo a data como o índice do dataframe\n",
    "\n",
    "# Fixa unha columna do DataFrame coma index.\n",
    "#df = df.set_index(\"Fecha\")\n",
    "\n",
    "#print(df)\n",
    "\n",
    "# Calcula o maximo valor do campo \"Prezo Venta\" para un mesmo ano.\n",
    "prezo_max_anuais = df.groupby(df.index.year).max()[\"Prezo Venta\"]  # pd.DataFrame\n",
    "print(prezo_max_anuais)\n",
    "\n",
    "# Calcula o maximo valor do campo \"Prezo Venta\" para un mesmo ano e para cada cidade.\n",
    "prezo_max_anuais_per_cidad = df.groupby([df.index.year, \"Cidade\"]).max()[\"Prezo Venta\"]  # pd.DataFrame\n",
    "#print(prezo_max_anuais_per_cidad)\n",
    "\n",
    "# Calcula a media do campo \"Prezo Venta\" para cada mes e para cada cidade.\n",
    "prezo_medios_mensuais = df.groupby([df.index.year, df.index.month, \"Cidade\"])[\"Prezo Venta\"].mean()  # pd.DataFrame\n",
    "#print(prezo_medios_mensuais)\n",
    "\n"
   ]
  },
  {
   "cell_type": "markdown",
   "metadata": {},
   "source": [
    "### Grouby con MultiIndex\n",
    "Si temos un DataFrame con MultiIndex podemos usar groupby(level=0) para indicar por exemplo que queremos agroupar polo primer campo do Index"
   ]
  },
  {
   "cell_type": "code",
   "execution_count": 11,
   "metadata": {},
   "outputs": [
    {
     "data": {
      "text/html": [
       "<div>\n",
       "<style scoped>\n",
       "    .dataframe tbody tr th:only-of-type {\n",
       "        vertical-align: middle;\n",
       "    }\n",
       "\n",
       "    .dataframe tbody tr th {\n",
       "        vertical-align: top;\n",
       "    }\n",
       "\n",
       "    .dataframe thead th {\n",
       "        text-align: right;\n",
       "    }\n",
       "</style>\n",
       "<table border=\"1\" class=\"dataframe\">\n",
       "  <thead>\n",
       "    <tr style=\"text-align: right;\">\n",
       "      <th></th>\n",
       "      <th>Max Speed</th>\n",
       "    </tr>\n",
       "    <tr>\n",
       "      <th>Animal</th>\n",
       "      <th></th>\n",
       "    </tr>\n",
       "  </thead>\n",
       "  <tbody>\n",
       "    <tr>\n",
       "      <th>Falcon</th>\n",
       "      <td>370.0</td>\n",
       "    </tr>\n",
       "    <tr>\n",
       "      <th>Parrot</th>\n",
       "      <td>25.0</td>\n",
       "    </tr>\n",
       "  </tbody>\n",
       "</table>\n",
       "</div>"
      ],
      "text/plain": [
       "        Max Speed\n",
       "Animal           \n",
       "Falcon      370.0\n",
       "Parrot       25.0"
      ]
     },
     "execution_count": 11,
     "metadata": {},
     "output_type": "execute_result"
    }
   ],
   "source": [
    "arrays = [['Falcon', 'Falcon', 'Parrot', 'Parrot'],\n",
    "          ['Captive', 'Wild', 'Captive', 'Wild']]\n",
    "\n",
    "index = pd.MultiIndex.from_arrays(arrays, names=('Animal', 'Type'))\n",
    "\n",
    "df = pd.DataFrame({'Max Speed': [390., 350., 30., 20.]}, index=index)\n",
    "#df\n",
    "\n",
    "df.groupby(level=0).mean() # é equivalente a usar df.groupby(\"Animal\").mean()"
   ]
  }
 ],
 "metadata": {
  "kernelspec": {
   "display_name": "base",
   "language": "python",
   "name": "python3"
  },
  "language_info": {
   "codemirror_mode": {
    "name": "ipython",
    "version": 3
   },
   "file_extension": ".py",
   "mimetype": "text/x-python",
   "name": "python",
   "nbconvert_exporter": "python",
   "pygments_lexer": "ipython3",
   "version": "3.12.7"
  }
 },
 "nbformat": 4,
 "nbformat_minor": 2
}
